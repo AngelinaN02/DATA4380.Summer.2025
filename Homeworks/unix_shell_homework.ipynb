{
 "cells": [
  {
   "cell_type": "markdown",
   "id": "f62b03bb-0bcc-427b-8818-766d1280ef45",
   "metadata": {},
   "source": [
    "# **Organize Dataset Directory**"
   ]
  },
  {
   "cell_type": "markdown",
   "id": "3e6f0de6-686e-4083-a7d0-5b09acc3893a",
   "metadata": {},
   "source": [
    "cd ~/Data-4380/DATA4380.Summer.2025/ds-projects/datasets\n",
    "\n",
    "mkdir zipfiles\n",
    "\n",
    "mv *.zip zipfiles/"
   ]
  },
  {
   "cell_type": "markdown",
   "id": "65373163-857b-4226-83f8-973ae1d1cf9d",
   "metadata": {},
   "source": [
    "# **Split Heart Disease Data by Label**"
   ]
  },
  {
   "cell_type": "markdown",
   "id": "b415a597-d92b-4154-9d3e-2751b49a341d",
   "metadata": {},
   "source": [
    "cd heart-disease-prediction\n",
    "\n",
    "*Create header line in both output files\n",
    "\n",
    "head -n 1 Heart_Disease_Prediction.csv > presence.csv\n",
    "\n",
    "head -n 1 Heart_Disease_Prediction.csv > absence.csv\n",
    "\n",
    "*Filter based on label\n",
    "\n",
    "grep Presence Heart_Disease_Prediction.csv >> presence.csv\n",
    "\n",
    "grep Absence Heart_Disease_Prediction.csv >> absence.csv"
   ]
  },
  {
   "cell_type": "markdown",
   "id": "1040a913-fd7f-4126-a6a5-b7103f64913c",
   "metadata": {},
   "source": [
    "# **Replace Values in Housing.csv**"
   ]
  },
  {
   "cell_type": "markdown",
   "id": "28d03f38-f2ce-44f6-8da6-3cd05c713370",
   "metadata": {},
   "source": [
    "cd ../housing-prices-dataset\n",
    "\n",
    "cat Housing.csv | \\\n",
    "\n",
    "sed 's/,yes/,1/g' | \\\n",
    "\n",
    "sed 's/,no/,0/g' | \\\n",
    "\n",
    "sed 's/,unfurnished/,0/g' | \\\n",
    "\n",
    "sed 's/,semi-furnished/,2/g' | \\\n",
    "\n",
    "sed 's/,furnished/,1/g' > Housing_cleaned.csv"
   ]
  },
  {
   "cell_type": "markdown",
   "id": "e9012790-fd3a-4cff-b96c-842357bde58b",
   "metadata": {},
   "source": [
    "# **Remove \"CustomerID\" Column from Mall_Customers.csv**"
   ]
  },
  {
   "cell_type": "markdown",
   "id": "be0a20aa-711a-40f9-8330-8ac56f08c46b",
   "metadata": {},
   "source": [
    "cd ../mall-customers\n",
    "\n",
    "cut -d',' -f2- Mall_Customers.csv > Mall_Customers_noID.csv"
   ]
  },
  {
   "cell_type": "markdown",
   "id": "526f0c5b-c855-4a8c-934f-e252d7640f50",
   "metadata": {},
   "source": [
    "# **Sort Cancer Data by Age**"
   ]
  },
  {
   "cell_type": "markdown",
   "id": "9bf0545a-60cc-4331-84c1-0c9f1898b01b",
   "metadata": {},
   "source": [
    "cd ../cancer-patient-data-sets\n",
    "\n",
    "sort -t',' -k2 -n \"cancer patient data sets.csv\" > sorted_by_age.csv"
   ]
  },
  {
   "cell_type": "code",
   "execution_count": null,
   "id": "48bc16ab-a7c0-419c-a08d-c60053b1ac8b",
   "metadata": {},
   "outputs": [],
   "source": []
  }
 ],
 "metadata": {
  "kernelspec": {
   "display_name": "Python 3 (ipykernel)",
   "language": "python",
   "name": "python3"
  },
  "language_info": {
   "codemirror_mode": {
    "name": "ipython",
    "version": 3
   },
   "file_extension": ".py",
   "mimetype": "text/x-python",
   "name": "python",
   "nbconvert_exporter": "python",
   "pygments_lexer": "ipython3",
   "version": "3.10.12"
  }
 },
 "nbformat": 4,
 "nbformat_minor": 5
}
