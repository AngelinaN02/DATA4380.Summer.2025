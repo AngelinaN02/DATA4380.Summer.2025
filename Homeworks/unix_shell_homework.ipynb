{
 "cells": [
  {
   "cell_type": "markdown",
   "id": "f62b03bb-0bcc-427b-8818-766d1280ef45",
   "metadata": {},
   "source": [
    "# **Organize Dataset Directory**"
   ]
  },
  {
   "cell_type": "raw",
   "id": "338940ba-3b72-4363-b5d9-46312cc393e8",
   "metadata": {},
   "source": [
    "cd ~/Data-4380/DATA4380.Summer.2025/ds-projects/datasets\n",
    "mkdir zipfiles\n",
    "mv *.zip zipfiles/"
   ]
  },
  {
   "cell_type": "markdown",
   "id": "65373163-857b-4226-83f8-973ae1d1cf9d",
   "metadata": {},
   "source": [
    "# **Split Heart Disease Data by Label**"
   ]
  },
  {
   "cell_type": "raw",
   "id": "ac8f5cda-af12-4533-b5c7-7c1e61b8a014",
   "metadata": {},
   "source": [
    "cd heart-disease-prediction\n",
    "\n",
    "# Create header line in both output files\n",
    "head -n 1 Heart_Disease_Prediction.csv > presence.csv\n",
    "head -n 1 Heart_Disease_Prediction.csv > absence.csv\n",
    "\n",
    "# Filter based on label\n",
    "grep Presence Heart_Disease_Prediction.csv >> presence.csv\n",
    "grep Absence Heart_Disease_Prediction.csv >> absence.csv"
   ]
  },
  {
   "cell_type": "markdown",
   "id": "1040a913-fd7f-4126-a6a5-b7103f64913c",
   "metadata": {},
   "source": [
    "# **Replace Values in Housing.csv**"
   ]
  },
  {
   "cell_type": "raw",
   "id": "7115facf-b7f5-4559-9a1e-7186c6ae23ae",
   "metadata": {},
   "source": [
    "cd ../housing-prices-dataset\n",
    "\n",
    "cat Housing.csv | \\\n",
    "sed 's/,yes/,1/g' | \\\n",
    "sed 's/,no/,0/g' | \\\n",
    "sed 's/,unfurnished/,0/g' | \\\n",
    "sed 's/,semi-furnished/,2/g' | \\\n",
    "sed 's/,furnished/,1/g' > Housing_cleaned.csv"
   ]
  },
  {
   "cell_type": "markdown",
   "id": "e9012790-fd3a-4cff-b96c-842357bde58b",
   "metadata": {},
   "source": [
    "# **Remove \"CustomerID\" Column from Mall_Customers.csv**"
   ]
  },
  {
   "cell_type": "raw",
   "id": "594afeb2-b1a6-4b35-b57b-4f54cb34da30",
   "metadata": {},
   "source": [
    "cd ../mall-customers\n",
    "\n",
    "cut -d',' -f2- Mall_Customers.csv > Mall_Customers_noID.csv"
   ]
  },
  {
   "cell_type": "markdown",
   "id": "526f0c5b-c855-4a8c-934f-e252d7640f50",
   "metadata": {},
   "source": [
    "# **Sort Cancer Data by Age**"
   ]
  },
  {
   "cell_type": "raw",
   "id": "239b66d3-0f80-4162-bd26-5a1ef9478803",
   "metadata": {},
   "source": [
    "cd ../cancer-patient-data-sets\n",
    "\n",
    "sort -t',' -k2 -n \"cancer patient data sets.csv\" > sorted_by_age.csv"
   ]
  }
 ],
 "metadata": {
  "kernelspec": {
   "display_name": "Python 3 (ipykernel)",
   "language": "python",
   "name": "python3"
  },
  "language_info": {
   "codemirror_mode": {
    "name": "ipython",
    "version": 3
   },
   "file_extension": ".py",
   "mimetype": "text/x-python",
   "name": "python",
   "nbconvert_exporter": "python",
   "pygments_lexer": "ipython3",
   "version": "3.10.12"
  }
 },
 "nbformat": 4,
 "nbformat_minor": 5
}
